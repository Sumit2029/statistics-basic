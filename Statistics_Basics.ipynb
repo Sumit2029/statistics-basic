{
  "nbformat": 4,
  "nbformat_minor": 0,
  "metadata": {
    "colab": {
      "provenance": []
    },
    "kernelspec": {
      "name": "python3",
      "display_name": "Python 3"
    },
    "language_info": {
      "name": "python"
    }
  },
  "cells": [
    {
      "cell_type": "code",
      "execution_count": null,
      "metadata": {
        "id": "kNv2TFK41-yJ"
      },
      "outputs": [],
      "source": []
    },
    {
      "cell_type": "markdown",
      "source": [
        "1.  Explain the different types of data (qualitative and quantitative)and provide examples of each. Discuss\n",
        "nominal, ordinal, interval, and ratio scales.\n",
        " ->Data can be classified into two main types:\n",
        "- Qualitative data: Non-numerical data that describes characteristics or attributes. Examples include colors, textures, and categories.\n",
        "- Quantitative data: Numerical data that can be measured or counted. Examples include temperatures, weights, and ages.\n",
        "Quantitative data can be further classified into:\n",
        "- Nominal scale: Data that is categorized without any inherent order. Examples include colors, genders, and nationalities.\n",
        "- Ordinal scale: Data that is categorized with an inherent order. Examples include educational levels, income levels, and satisfaction ratings.\n",
        "- Interval scale: Data that is measured with equal intervals between consecutive levels. Examples include temperatures in Celsius or Fahrenheit.\n",
        "- Ratio scale: Data that is measured with equal intervals between consecutive levels and has a true zero point. Examples include weights, heights, and ages\n",
        "2. What are the measures of central tendency, and when should you use each? Discuss the mean, median,\n",
        "and mode with examples and situations where each is appropriate.\n",
        "  ->Measures of central tendency describe the middle or typical value of a dataset.\n",
        "- Mean: The average value of the dataset. Suitable for interval or ratio data.\n",
        "- Median: The middle value of the dataset when it is sorted in ascending order. Suitable for ordinal, interval, or ratio data.\n",
        "- Mode: The most frequently occurring value in the dataset. Suitable for nominal, ordinal, interval, or ratio data.\n",
        "3.  Explain the concept of dispersion. How do variance and standard deviation measure the spread of data?\n",
        " ->Dispersion refers to the spread or variability of data.\n",
        "- Variance: The average of the squared differences between each data point and the mean.\n",
        "- Standard deviation: The square root of the variance. It measures the spread of data in the same units as the data.\n",
        "4.  What is a box plot, and what can it tell you about the distribution of data?\n",
        "  ->A box plot is a graphical representation of the distribution of data.\n",
        "- Box: Represents the interquartile range (IQR), which contains 50% of the data.\n",
        "- Whiskers: Represent the range of data, excluding outliers.\n",
        "- Median: Represented by a line inside the box.\n",
        "- Outliers: Represented by individual points outside the whiskers.\n",
        "5.  Discuss the role of random sampling in making inferences about populations.\n",
        " ->Random sampling involves selecting a subset of data from a population in a way that each data point has an equal chance of being selected.\n",
        "This allows for making inferences about the population based on the sample data.\n",
        "6.  Explain the concept of skewness and its types. How does skewness affect the interpretation of data?\n",
        " ->Skewness refers to the asymmetry of the distribution of data.\n",
        "- Positive skewness: The tail on the right side of the distribution is longer or fatter than the left side.\n",
        "- Negative skewness: The tail on the left side of the distribution is longer or fatter than the right side.\n",
        "- Zero skewness: The distribution is symmetrical.\n",
        "7.  What is the interquartile range (IQR), and how is it used to detect outliers?\n",
        " ->The IQR is the difference between the 75th percentile (Q3) and the 25th percentile (Q1) of the data.\n",
        "IQR is used to detect outliers, which are data points that fall outside the range of 1.5 * IQR below Q1 or above Q3.\n",
        "8. Discuss the conditions under which the binomial distribution is used.\n",
        " ->The binomial distribution is used to model the number of successes in a fixed number of independent trials, where each trial has a constant probability of success.\n",
        "Conditions for using the binomial distribution:\n",
        "- Fixed number of trials\n",
        "- Independent trials\n",
        "- Constant probability of success\n",
        "- Each trial has only two possible outcomes (success or failure)\n",
        "9. Explain the properties of the normal distribution and the empirical rule (68-95-99.7 rule).\n",
        " ->The normal distribution, also known as the Gaussian distribution, is a continuous probability distribution that is symmetric about the mean.\n",
        "Properties of the normal distribution:\n",
        "- Symmetrical about the mean\n",
        "- Bell-shaped curve\n",
        "- Mean, median, and mode are equal\n",
        "The empirical rule, also known as the 68-95-99.7 rule, states that:\n",
        "- About 68% of the data falls within 1 standard deviation of the mean\n",
        "- About 95% of the data falls within 2 standard deviations of the mean\n",
        "- About 99.7% of the data falls within 3 standard deviations of the mean\n",
        "\n",
        "10.  Provide a real-life example of a Poisson process and calculate the probability for a specific event.\n",
        " ->A Poisson process is a stochastic process that models the occurrence of events over time or space.\n",
        "Example: The number of customers arriving at a store in a given hour.\n",
        "To calculate the probability of a specific event, you can use the Poisson distribution formula:\n",
        "P(X = k) = (e^(-λ) * (λ^k)) / k!\n",
        "where:\n",
        "- P(X = k) is the probability of k events occurring\n",
        "- e is the base of the natural logarithm\n",
        "- λ\n",
        "11. Explain what a random variable is and differentiate between discrete and continuous random variables.\n",
        " ->A random variable is a variable whose possible values are determined by chance events.\n",
        "There are two types of random variables:\n",
        "- Discrete random variables: Can take on only a countable number of distinct values.\n",
        "- Continuous random variables: Can take on any value within a given interval or range.\n",
        "12. Provide an example dataset, calculate both covariance and correlation, and interpret the results\n",
        " ->Covariance and correlation are measures of the relationship between two variables.\n",
        "Covariance measures the linear relationship between two variables:\n",
        "cov(X, Y) = Σ[(xi - μx)(yi - μy)] / (n - 1)\n",
        "Correlation measures the strength and direction of the linear relationship between two variables:\n",
        "ρ(X, Y) = cov(X, Y) / (σx * σy)\n",
        "Example dataset:\n",
        "\n",
        "| X | Y |\n",
        "| --- | --- |\n",
        "| 1 | 2 |\n",
        "| 2 | 3 |\n",
        "| 3 | 5 |\n",
        "| 4 | 7 |\n",
        "| 5 | 11 |\n",
        "\n",
        "Covariance: cov(X, Y) = 3.2\n",
        "\n",
        "Correlation: ρ(X, Y) = 0.87\n",
        "Interpretation: There is a strong positive linear relationship between X and Y.\n",
        "\n"
      ],
      "metadata": {
        "id": "9KeI0oOV2Fxa"
      }
    },
    {
      "cell_type": "markdown",
      "source": [],
      "metadata": {
        "id": "18GSZWm47CZ8"
      }
    },
    {
      "cell_type": "code",
      "source": [],
      "metadata": {
        "id": "No8D8gRS3Vgz"
      },
      "execution_count": null,
      "outputs": []
    },
    {
      "cell_type": "markdown",
      "source": [],
      "metadata": {
        "id": "DCssVLR53WbQ"
      }
    }
  ]
}